{
 "cells": [
  {
   "cell_type": "markdown",
   "id": "7d7e0d16",
   "metadata": {},
   "source": [
    "# The (infinite) Fresnel Integrals"
   ]
  },
  {
   "cell_type": "code",
   "execution_count": 32,
   "id": "9cf33358",
   "metadata": {},
   "outputs": [],
   "source": [
    "from scipy import *\n",
    "from scipy.integrate import quad\n",
    "from numpy import *\n",
    "import bqplot.pyplot as plt\n",
    "import ipywidgets as widgets"
   ]
  },
  {
   "cell_type": "code",
   "execution_count": 33,
   "id": "61089d09",
   "metadata": {},
   "outputs": [
    {
     "data": {
      "text/html": [
       "<style>\n",
       "div.input {\n",
       "    display:none;\n",
       "}\n",
       "</style>\n"
      ],
      "text/plain": [
       "<IPython.core.display.HTML object>"
      ]
     },
     "metadata": {},
     "output_type": "display_data"
    }
   ],
   "source": [
    "%%html\n",
    "<style>\n",
    "div.input {\n",
    "    display:none;\n",
    "}\n",
    "</style>"
   ]
  },
  {
   "cell_type": "markdown",
   "id": "e269a2a1",
   "metadata": {},
   "source": [
    "In the first curve notebook, I referred to Euler finding the limit point of his eponymous spiral (with some unfortunate typos involving the variable of integration, corrected below):"
   ]
  },
  {
   "cell_type": "markdown",
   "id": "bfe36e75",
   "metadata": {},
   "source": [
    "Euler recognized that these integrals could not be evaluated in closed form, but worked out term-by-term integration of the series expansions in order to evaluate them.  He then posed the question of locating the two limit points of the spiral, namely:\n",
    "$$ x = \\pm \\int_0^{\\infty} \\cos \\frac{u^2}{2a^2} du$$\n",
    "$$ y = \\pm \\int_0^{\\infty} \\sin \\frac{u^2}{2a^2} du$$\n",
    "\n",
    "Euler answered his own question in 1781:\n",
    "\n",
    "$$ x = \\pm \\frac{a \\sqrt{\\pi}}{2} \\text{ and } x = \\pm \\frac{a \\sqrt{\\pi}}{2} $$"
   ]
  },
  {
   "cell_type": "markdown",
   "id": "43647460",
   "metadata": {},
   "source": [
    "How are these integrals evaluated?  Euler himself did it using his gamma function.  We'll look at a different method here involving the Euler identity."
   ]
  },
  {
   "cell_type": "markdown",
   "id": "acaec4db",
   "metadata": {},
   "source": [
    "## Goal:  Evaluate $\\int_0^{\\infty} \\cos x^2 dx$ and $\\int_0^{\\infty} \\sin x^2 dx$"
   ]
  },
  {
   "cell_type": "markdown",
   "id": "0033c708",
   "metadata": {},
   "source": [
    "Start by defining a new function:\n",
    "\n",
    "$$ G(x) = \\left\\{ \\int_0^x e^{it^2}dt \\right\\}^2 + i \\int_0^1 \\frac{e^{ix^2(t^2+1)}}{t^2+1}dt$$."
   ]
  },
  {
   "cell_type": "markdown",
   "id": "259f1013",
   "metadata": {},
   "source": [
    "Evaluating at $x=0$, we see that \n",
    "\n",
    "$$G(0) = 0 + i \\int_0^1 \\frac{dt}{t^2+1} = i \\tan^{-1} 1 = \\frac{i\\pi}{4}$$"
   ]
  },
  {
   "cell_type": "markdown",
   "id": "2fd33660",
   "metadata": {},
   "source": [
    "Now, find the derivative of $G(x)$ with respect to $x$:\n",
    "\n",
    "$$ \\frac{dG}{dx} = 2 \\left\\{ \\int_0^x e^{it^2}dt \\right\\} e^{ix^2} + i \\int_0^1 \\frac{i2x(t^2+1)e^{ix^2(t^2+1)}}{t^2+1}dt $$\n",
    "$$ = 2e^{ix^2} \\int_0^x e^{it^2}dt - 2x\\int_0^1e^{ix^2t^2}e^{ix^2}dt $$\n",
    "$$ = 2e^{ix^2}\\int_0^x e^{it^2}dt- 2x e^{ix^2} \\int_0^1e^{ix^2t^2} dt $$"
   ]
  },
  {
   "cell_type": "markdown",
   "id": "68c45e45",
   "metadata": {},
   "source": [
    "Now, in that last integral, change the variable to $u = tx$ (hence $du = x dt$ or $dt = \\frac{du}{x}$) to get (note change of integration limit for variable change)\n",
    "\n",
    "$$ \\frac{dG}{dx} =2e^{ix^2}\\int_0^x e^{it^2}dt - 2x e^{ix^2} \\int_0^xe^{iu^2} \\frac{du}{x} $$\n",
    "$$ = 2e^{ix^2} \\left[ \\int_0^x e^{it^2}dt - \\int_0^xe^{iu^2} du \\right] = 0$$ "
   ]
  },
  {
   "cell_type": "markdown",
   "id": "4e535033",
   "metadata": {},
   "source": [
    "The function $G(x)$ has zero rate of change *everywhere*!  Thus, $G(x)$ is a constant -- and since we know the value of $G(0)$, that **is** the constant.  So\n",
    "\n",
    "$$ G(x) = \\frac{i\\pi}{4}.$$"
   ]
  },
  {
   "cell_type": "markdown",
   "id": "7a39eb64",
   "metadata": {},
   "source": [
    "Great.  How does that help?  We can see from the original definition of $G(x)$ above that the Fresnel Integrals of interest would be related to the first integral in the definition in the limit as $x \\rightarrow \\infty$.  Now if we could only make the second integral in the definition go away....\n",
    "\n",
    "So, to that end, consider the following claim:\n",
    "\n",
    "$$ L = \\lim_{x \\rightarrow \\infty} \\int_0^1 \\frac{e^{ix^2(t^2+1)}}{t^2+1}dt  = \\boldsymbol{0} $$\n",
    "\n",
    "Re-write the integral using Euler's identity:\n",
    "\n",
    "$$  \\int_0^1 \\frac{e^{ix^2(t^2+1)}}{t^2+1}dt  = \\int_0^1 \\frac{\\cos x^2(t^2+1)}{t^2+1}dt + i  \\int_0^1 \\frac{\\sin x^2(t^2+1)}{t^2+1}dt$$\n",
    "\n",
    "But\n",
    "\n",
    "$$ \\cos x^2(t^2+1) = \\cos(x^2t^2 + x^2) = \\cos x^2t^2 \\cos x^2 - \\sin x^2t^2 \\sin x^2 $$\n",
    "\n",
    "and similarly\n",
    "\n",
    "$$ \\sin x^2(t^2+1) = \\sin(x^2t^2 + x^2) = \\sin x^2t^2 \\cos x^2 + \\cos x^2t^2 \\sin x^2 $$\n",
    "\n",
    "Now, since the factors $\\cos x^2$ and $\\sin x^2$ can be pulled out of the integral (which is over $t$, not $x$), $L = 0$ if\n",
    "\n",
    "$$\\lim_{x \\rightarrow \\infty} \\int_0^1 \\frac{\\sin x^2t^2}{t^2+1}dt = \\lim_{x \\rightarrow \\infty} \\int_0^1 \\frac{\\cos x^2t^2}{t^2+1}dt = 0$$"
   ]
  },
  {
   "cell_type": "markdown",
   "id": "768052f6",
   "metadata": {},
   "source": [
    "Let's focus on the first integral above; the second will follow analogously to the following argument.  Make a change of variable:  $u = t^2$, so $du = 2tdt$, and $dt = \\frac{du}{2 \\sqrt{u}}$.  Then\n",
    "\n",
    "$$ \\int_0^1 \\frac{\\sin x^2t^2}{t^2+1}dt = \\int_0^1 \\frac{\\sin x^2u}{u+1} \\left( \\frac{1}{2 \\sqrt{u}} \\right) du = \\frac{1}{2} \\int_0^1 \\frac{\\sin x^2 u}{(u+1) \\sqrt{u}} du < \\int_0^1 \\frac{\\sin x^2u}{\\sqrt{u}}du,$$\n",
    "\n",
    "where the inequality at the end comes from dropping the factor of $\\frac{1}{2}$ and replacing the denominator in the integrand with a smaller quantity.\n",
    "\n",
    "Now, notice that the integrand of the last integral is a damped oscillatory function (for $x>2$ or so -- convince yourself with the plot widget below), with the area of each new half-cycle of smaller area (with alternating signs)."
   ]
  },
  {
   "cell_type": "code",
   "execution_count": 34,
   "id": "93fca7c3",
   "metadata": {
    "scrolled": false
   },
   "outputs": [
    {
     "data": {
      "application/vnd.jupyter.widget-view+json": {
       "model_id": "03a986843ed24a968695737c84f5313f",
       "version_major": 2,
       "version_minor": 0
      },
      "text/plain": [
       "VBox(children=(HBox(children=(HTMLMath(value='$$\\\\int_0^1 \\\\frac{\\\\sin x^2u}{\\\\sqrt{u}}du$$'),), layout=Layout…"
      ]
     },
     "metadata": {},
     "output_type": "display_data"
    }
   ],
   "source": [
    "fig_layout = widgets.Layout(height = \"350px\", width = \"550px\")\n",
    "fig_margin_dict = dict(top=30, bottom = 30, left = 20, right = 10)\n",
    "title = widgets.HTMLMath(value = r\"$$\\int_0^1 \\frac{\\sin x^2u}{\\sqrt{u}}du$$\")\n",
    "box_layout = widgets.Layout(display='flex',\n",
    "                           flex_flow = 'column',\n",
    "                           align_items='center',\n",
    "                           width = '75%')\n",
    "title_box = widgets.HBox([title], layout = box_layout)\n",
    "main_fig = plt.figure(title=\"integrand\", layout = fig_layout, fig_margin = fig_margin_dict)\n",
    "\n",
    "u = linspace(0.0001, 1, 500)\n",
    "\n",
    "def integrand(u, x = 1):\n",
    "    return sin(x**2*u)/sqrt(u)\n",
    "\n",
    "curve = plt.plot(u, integrand(u))\n",
    "\n",
    "# add integral line\n",
    "val = quad(integrand, 0, 1)[0]\n",
    "int_line = plt.plot([0,1], [val, val], 'k')\n",
    "\n",
    "# add widget to alter value of x\n",
    "entry_layout = widgets.Layout(width = '175px')\n",
    "xwidg = widgets.FloatText(value = 1, layout = entry_layout, description = \"x = \")\n",
    "\n",
    "# add integral value reporting widgets\n",
    "intfmt = \"value of integral = {:.4f}\"\n",
    "out_str = r\"<b>Integral Value:  <font color='green'> = {:.4f}</font></b>\"\n",
    "out_layout = widgets.Layout(border=\"\", width = '50%', margin = \"0 0 0 40px\")\n",
    "label = widgets.HTML(value = out_str.format(val), layout = out_layout)\n",
    "\n",
    "second = widgets.HBox([xwidg, label])\n",
    "\n",
    "\n",
    "def update(change):\n",
    "    x = xwidg.value\n",
    "    y = integrand(u, x=x)\n",
    "    curve.y = y\n",
    "    val = quad(integrand, 0, 1, args= (x,))[0]\n",
    "    int_line.y = [val, val]\n",
    "    label.value = out_str.format(val)\n",
    "    \n",
    "xwidg.observe(update, names = 'value')\n",
    "widgets.VBox([title_box, main_fig, second])"
   ]
  },
  {
   "cell_type": "markdown",
   "id": "003605a8",
   "metadata": {},
   "source": [
    "The value of the integral can be thought of as the sum of the areas of each of these half-cycles, which forms a monotonically decreasing alternating series. As such, the sum *must* be less than the first term!  Since the zeros of $\\sin x^2 u$ occur where $x^2 u = n\\pi$, then the first two zeros in the integration interval are at $u = 0$ and $u = \\frac{\\pi}{x^2}$, respectively.  So, replacing the $\\sin x^2u$ with its maximum value of 1, we have the inequality:\n",
    "\n",
    "$$ \\int_0^1 \\frac{\\sin x^2u}{\\sqrt{u}}du < \\int_0^{\\pi/2} \\frac{du}{\\sqrt{u}} = 2(\\sqrt{u})|_0^{\\pi/x^2} = \\frac{2\\sqrt{\\pi}}{x}$$\n",
    "\n",
    "so (since the integral is non-negative)\n",
    "\n",
    "$$ \\lim_{x \\rightarrow \\infty} \\int_0^1 \\frac{\\sin x^2u}{\\sqrt{u}}du = \\lim_{x \\rightarrow \\infty} \\frac{2\\sqrt{\\pi}}{x} = 0.$$\n",
    "\n",
    "Analogously, \n",
    "\n",
    "$$ \\lim_{x \\rightarrow \\infty} \\int_0^1 \\frac{\\cos x^2u}{\\sqrt{u}}du = 0 $$"
   ]
  },
  {
   "cell_type": "markdown",
   "id": "9d3f5f7c",
   "metadata": {},
   "source": [
    "Returning, then, to our defined function $G(x)$, we now have that\n",
    "\n",
    "$$ G(\\infty) = \\left\\{ \\int_0^{\\infty} e^{it^2}dt \\right\\}^2 = \\left\\{ \\int_0^{\\infty} \\cos t^2 dt + i \\int_0^{\\infty} \\sin t^2 dt \\right\\}^2 = (A + iB)^2,$$"
   ]
  },
  {
   "cell_type": "markdown",
   "id": "b86f4898",
   "metadata": {},
   "source": [
    "where $A$ and $B$ are the Fresnel integrals that we seek.  But, since we know $G(x)$ is a constant, it follows that\n",
    "\n",
    "$$G(\\infty) = \\frac{i\\pi}{4} = A^2 + 2iAB - B^2 $$\n",
    "\n",
    "Equating both the real and the imaginary parts on both sides of the equation, we see that\n",
    "\n",
    "$$ 0 = A^2 - B^2 ,$$\n",
    "\n",
    "which means that $A = B$, since they are both clearly non-negative, and \n",
    "\n",
    "$$ 2AB = \\frac{\\pi}{4} = 2A^2,$$\n",
    "\n",
    "which means that $A = B = \\frac{1}{2} \\sqrt{\\frac{\\pi}{2}} = 0.6266...$, and we are done."
   ]
  },
  {
   "cell_type": "code",
   "execution_count": null,
   "id": "bba1ad6e",
   "metadata": {},
   "outputs": [],
   "source": []
  }
 ],
 "metadata": {
  "kernelspec": {
   "display_name": "Python 3",
   "language": "python",
   "name": "python3"
  },
  "language_info": {
   "codemirror_mode": {
    "name": "ipython",
    "version": 3
   },
   "file_extension": ".py",
   "mimetype": "text/x-python",
   "name": "python",
   "nbconvert_exporter": "python",
   "pygments_lexer": "ipython3",
   "version": "3.8.8"
  }
 },
 "nbformat": 4,
 "nbformat_minor": 5
}
